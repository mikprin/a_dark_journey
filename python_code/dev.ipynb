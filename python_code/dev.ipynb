{
 "cells": [
  {
   "cell_type": "code",
   "execution_count": 20,
   "metadata": {},
   "outputs": [
    {
     "name": "stdout",
     "output_type": "stream",
     "text": [
      "Defaulting to user installation because normal site-packages is not writeable\n",
      "Requirement already satisfied: sounddevice in /home/miksolo/.local/lib/python3.10/site-packages (0.4.5)\n",
      "Collecting pydub\n",
      "  Downloading pydub-0.25.1-py2.py3-none-any.whl (32 kB)\n",
      "Requirement already satisfied: CFFI>=1.0 in /home/miksolo/.local/lib/python3.10/site-packages (from sounddevice) (1.15.1)\n",
      "Requirement already satisfied: pycparser in /home/miksolo/.local/lib/python3.10/site-packages (from CFFI>=1.0->sounddevice) (2.21)\n",
      "Installing collected packages: pydub\n",
      "Successfully installed pydub-0.25.1\n"
     ]
    }
   ],
   "source": [
    "!python3 -m pip install sounddevice pydub"
   ]
  },
  {
   "cell_type": "code",
   "execution_count": 1,
   "metadata": {},
   "outputs": [],
   "source": [
    "import numpy as np\n",
    "import matplotlib.pyplot as plt\n",
    "import math\n",
    "import scipy\n",
    "\n",
    "import pydub \n",
    "\n",
    "\n",
    "# Playing the sound!\n",
    "import sounddevice as sd\n",
    "import time"
   ]
  },
  {
   "cell_type": "code",
   "execution_count": 2,
   "metadata": {},
   "outputs": [],
   "source": [
    "\n",
    "# p = pyaudio.PyAudio()\n",
    "\n",
    "# volume = 0.5  # range [0.0, 1.0]\n",
    "# fs = 44100  # sampling rate, Hz, must be integer\n",
    "# duration = 5.0  # in seconds, may be float\n",
    "# f = 440.0  # sine frequency, Hz, may be float\n",
    "\n",
    "# # generate samples, note conversion to float32 array\n",
    "# samples = (np.sin(2 * np.pi * np.arange(fs * duration) * f / fs)).astype(np.float32)\n",
    "\n",
    "# # per @yahweh comment explicitly convert to bytes sequence\n",
    "# output_bytes = (volume * samples).tobytes()\n",
    "\n",
    "# # for paFloat32 sample values must be in range [-1.0, 1.0]\n",
    "# stream = p.open(format=pyaudio.paFloat32,\n",
    "#                 channels=1,\n",
    "#                 rate=fs,\n",
    "#                 output=True)\n",
    "\n",
    "# # play. May repeat with different volume values (if done interactively)\n",
    "# start_time = time.time()\n",
    "# stream.write(output_bytes)\n",
    "# print(\"Played sound for {:.2f} seconds\".format(time.time() - start_time))\n",
    "\n",
    "# stream.stop_stream()\n",
    "# stream.close()\n",
    "\n",
    "# p.terminate()"
   ]
  },
  {
   "cell_type": "code",
   "execution_count": 3,
   "metadata": {},
   "outputs": [],
   "source": [
    "volume = 0.2  # range [0.0, 1.0]\n",
    "fs = 44100  # sampling rate, Hz, must be integer\n",
    "duration = 10.0  # in seconds, may be float\n",
    "f = 8400.0  # sine frequency, Hz, may be float\n",
    "\n",
    "# generate samples, note conversion to float32 array\n",
    "samples = volume*(np.sin(2 * np.pi * np.arange(fs * duration) * f / fs)).astype(np.float32)\n",
    "\n",
    "# Gradient of the signal\n",
    "\n",
    "grad = np.logspace(0, 1, len(samples))\n",
    "\n",
    "changed_samples = np.multiply(samples, grad)\n",
    "\n",
    "# sd.play( changed_samples, fs )\n",
    "\n"
   ]
  },
  {
   "cell_type": "code",
   "execution_count": 5,
   "metadata": {},
   "outputs": [
    {
     "data": {
      "text/plain": [
       "[<matplotlib.lines.Line2D at 0x7fef86ae4430>]"
      ]
     },
     "execution_count": 5,
     "metadata": {},
     "output_type": "execute_result"
    },
    {
     "data": {
      "image/png": "[encoded data removed]",
      "text/plain": [
       "<Figure size 640x480 with 1 Axes>"
      ]
     },
     "metadata": {},
     "output_type": "display_data"
    }
   ],
   "source": [
    "import matplotlib.pyplot as plt\n",
    "\n",
    "plt.plot(changed_samples)"
   ]
  },
  {
   "cell_type": "code",
   "execution_count": 23,
   "metadata": {},
   "outputs": [],
   "source": [
    "def write(f, sr, x, normalized=False):\n",
    "    \"\"\"numpy array to MP3\"\"\"\n",
    "    channels = 2 if (x.ndim == 2 and x.shape[1] == 2) else 1\n",
    "    if normalized:  # normalized array - each item should be a float in [-1, 1)\n",
    "        y = np.int16(x * 2 ** 15)\n",
    "    else:\n",
    "        y = np.int16(x)\n",
    "    song = pydub.AudioSegment(y.tobytes(), frame_rate=sr, sample_width=2, channels=channels)\n",
    "    song.export(f, format=\"mp3\", bitrate=\"320k\")"
   ]
  },
  {
   "cell_type": "code",
   "execution_count": 24,
   "metadata": {},
   "outputs": [],
   "source": [
    "write(\"test.wav\", fs, changed_samples, normalized=True)"
   ]
  },
  {
   "cell_type": "code",
   "execution_count": null,
   "metadata": {},
   "outputs": [],
   "source": []
  }
 ],
 "metadata": {
  "kernelspec": {
   "display_name": "Python 3",
   "language": "python",
   "name": "python3"
  },
  "language_info": {
   "codemirror_mode": {
    "name": "ipython",
    "version": 3
   },
   "file_extension": ".py",
   "mimetype": "text/x-python",
   "name": "python",
   "nbconvert_exporter": "python",
   "pygments_lexer": "ipython3",
   "version": "3.10.6"
  },
  "orig_nbformat": 4,
  "vscode": {
   "interpreter": {
    "hash": "916dbcbb3f70747c44a77c7bcd40155683ae19c65e1c03b4aa3499c5328201f1"
   }
  }
 },
 "nbformat": 4,
 "nbformat_minor": 2
}
